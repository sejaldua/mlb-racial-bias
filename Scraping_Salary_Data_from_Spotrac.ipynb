{
  "cells": [
    {
      "cell_type": "code",
      "execution_count": null,
      "metadata": {
        "colab": {
          "base_uri": "https://localhost:8080/"
        },
        "id": "8d3RH_mti6zR",
        "outputId": "93e877b6-654f-4410-a6df-91356d06d764"
      },
      "outputs": [
        {
          "output_type": "stream",
          "name": "stdout",
          "text": [
            "Requirement already satisfied: requests in /usr/local/lib/python3.7/dist-packages (2.23.0)\n",
            "Requirement already satisfied: beautifulsoup4 in /usr/local/lib/python3.7/dist-packages (4.6.3)\n",
            "Requirement already satisfied: idna<3,>=2.5 in /usr/local/lib/python3.7/dist-packages (from requests) (2.10)\n",
            "Requirement already satisfied: certifi>=2017.4.17 in /usr/local/lib/python3.7/dist-packages (from requests) (2021.10.8)\n",
            "Requirement already satisfied: chardet<4,>=3.0.2 in /usr/local/lib/python3.7/dist-packages (from requests) (3.0.4)\n",
            "Requirement already satisfied: urllib3!=1.25.0,!=1.25.1,<1.26,>=1.21.1 in /usr/local/lib/python3.7/dist-packages (from requests) (1.24.3)\n",
            "Collecting pandasql\n",
            "  Downloading pandasql-0.7.3.tar.gz (26 kB)\n",
            "Requirement already satisfied: numpy in /usr/local/lib/python3.7/dist-packages (from pandasql) (1.21.6)\n",
            "Requirement already satisfied: pandas in /usr/local/lib/python3.7/dist-packages (from pandasql) (1.3.5)\n",
            "Requirement already satisfied: sqlalchemy in /usr/local/lib/python3.7/dist-packages (from pandasql) (1.4.36)\n",
            "Requirement already satisfied: pytz>=2017.3 in /usr/local/lib/python3.7/dist-packages (from pandas->pandasql) (2022.1)\n",
            "Requirement already satisfied: python-dateutil>=2.7.3 in /usr/local/lib/python3.7/dist-packages (from pandas->pandasql) (2.8.2)\n",
            "Requirement already satisfied: six>=1.5 in /usr/local/lib/python3.7/dist-packages (from python-dateutil>=2.7.3->pandas->pandasql) (1.15.0)\n",
            "Requirement already satisfied: greenlet!=0.4.17 in /usr/local/lib/python3.7/dist-packages (from sqlalchemy->pandasql) (1.1.2)\n",
            "Requirement already satisfied: importlib-metadata in /usr/local/lib/python3.7/dist-packages (from sqlalchemy->pandasql) (4.11.3)\n",
            "Requirement already satisfied: typing-extensions>=3.6.4 in /usr/local/lib/python3.7/dist-packages (from importlib-metadata->sqlalchemy->pandasql) (4.2.0)\n",
            "Requirement already satisfied: zipp>=0.5 in /usr/local/lib/python3.7/dist-packages (from importlib-metadata->sqlalchemy->pandasql) (3.8.0)\n",
            "Building wheels for collected packages: pandasql\n",
            "  Building wheel for pandasql (setup.py) ... \u001b[?25l\u001b[?25hdone\n",
            "  Created wheel for pandasql: filename=pandasql-0.7.3-py3-none-any.whl size=26784 sha256=4677d280a3bfcf3ccd8416e88c95ece160666fcaccbae8842fbbd88dbfaeab6e\n",
            "  Stored in directory: /root/.cache/pip/wheels/5c/4b/ec/41f4e116c8053c3654e2c2a47c62b4fca34cc67ef7b55deb7f\n",
            "Successfully built pandasql\n",
            "Installing collected packages: pandasql\n",
            "Successfully installed pandasql-0.7.3\n"
          ]
        }
      ],
      "source": [
        "!pip install requests beautifulsoup4\n",
        "!pip install pandasql"
      ]
    },
    {
      "cell_type": "code",
      "execution_count": null,
      "metadata": {
        "id": "5g-I5Lo_ftzW"
      },
      "outputs": [],
      "source": [
        "import requests\n",
        "from bs4 import BeautifulSoup\n",
        "import pandas as pd\n",
        "from google.colab import data_table\n",
        "import matplotlib.pyplot as plt\n",
        "from urllib.request import urlopen\n",
        "import re"
      ]
    },
    {
      "cell_type": "markdown",
      "source": [
        "## Scraping Data"
      ],
      "metadata": {
        "id": "iTmxAPEdyC5B"
      }
    },
    {
      "cell_type": "code",
      "execution_count": null,
      "metadata": {
        "colab": {
          "base_uri": "https://localhost:8080/"
        },
        "id": "x-Igv0EgfwH3",
        "outputId": "3f5c45fe-be35-42e6-f5b8-32f5fc13408c"
      },
      "outputs": [
        {
          "name": "stdout",
          "output_type": "stream",
          "text": [
            "['arizona-diamondbacks', 'atlanta-braves', 'baltimore-orioles', 'boston-red-sox', 'chicago-cubs', 'chicago-white-sox', 'cincinnati-reds', 'cleveland-guardians', 'colorado-rockies', 'detroit-tigers', 'houston-astros', 'kansas-city-royals', 'los-angeles-angels', 'los-angeles-dodgers', 'miami-marlins', 'milwaukee-brewers', 'minnesota-twins', 'new-york-mets', 'new-york-yankees', 'oakland-athletics', 'philadelphia-phillies', 'pittsburgh-pirates', 'san-diego-padres', 'san-francisco-giants', 'seattle-mariners', 'st-louis-cardinals', 'tampa-bay-rays', 'texas-rangers', 'toronto-blue-jays', 'washington-nationals']\n"
          ]
        }
      ],
      "source": [
        "soup = BeautifulSoup(requests.get('http://www.spotrac.com/mlb/').text, 'html.parser')\n",
        "teams = []\n",
        "links = soup.find_all('a')\n",
        "for link in links:\n",
        "    url = link.get('href')\n",
        "    if 'mlb' in url and '//payroll' in url:\n",
        "      payroll_link = link.get('href')\n",
        "      teams.append(re.match('https://www.spotrac.com/mlb/(.*)//payroll', payroll_link)[1])\n",
        "print(teams)"
      ]
    },
    {
      "cell_type": "code",
      "execution_count": null,
      "metadata": {
        "id": "dIhnRSAofyqd"
      },
      "outputs": [],
      "source": [
        "from tqdm import tqdm\n",
        "\n",
        "def get_player_country(url):\n",
        "  soup = BeautifulSoup(requests.get(url).text, 'html.parser')\n",
        "  div = soup.find('div', attrs={'class': 'player-details'})\n",
        "  for item in div.find_all('span', attrs={'class': 'player-item'}):\n",
        "    if item.find('strong') and 'Country' in item.find('strong').get_text():\n",
        "      return item.find('span', attrs={'class': 'player-infoitem'}).get_text().strip()\n",
        "  return \"\"\n",
        "\n",
        "def get_player_country_col(rows):\n",
        "  countries = []\n",
        "  for row in rows:\n",
        "    for td in row.find_all('td'):\n",
        "      links = td.find_all('a')\n",
        "      if len(links) > 0:\n",
        "        countries.append(get_player_country(links[0]['href']))\n",
        "  return countries\n",
        "\n",
        "def get_team_name(orig_team_name):\n",
        "  return ' '.join([word.capitalize() for word in orig_team_name.split('-')])\n",
        "\n",
        "def get_payroll_table(team, year):\n",
        "  session = requests.Session()\n",
        "  payload = {\n",
        "      'email': 'sejaldua@gmail.com',\n",
        "      'password': \"@pple@pple\"\n",
        "  }\n",
        "\n",
        "  login_url = 'https://www.spotrac.com/signin/submit/'\n",
        "  session.post(login_url, payload)\n",
        "  link = f'http://www.spotrac.com/mlb/{team}/payroll/{year}/'\n",
        "  soup = BeautifulSoup(requests.get(link, cookies=session.cookies.get_dict()).text, 'html.parser')\n",
        "  table = soup.find_all('table') \n",
        "  data = table[0]\n",
        "  header = data.find_all(\"thead\")[0]\n",
        "  header_row = header.find_all('tr')\n",
        "  header_data = [[td.get_text().strip() for td in header_row[i].find_all('th')] for i in range(len(header_row))]\n",
        "  content = data.find_all(\"tbody\")[0]\n",
        "  rows = content.find_all('tr')\n",
        "  rows_data = [[td.get_text().strip() for td in rows[i].find_all('td')] for i in range(len(rows))]\n",
        "  df = pd.DataFrame(rows_data, columns=header_data)\n",
        "  df.rename(columns={str(df.columns[0][0]): 'Active Players'}, inplace=True)\n",
        "  df['Active Players'] = df.iloc[:, 0].apply(lambda x: x.split('\\n')[1])\n",
        "  df['Country'] = get_player_country_col(rows)\n",
        "  df.columns = map(lambda x: x[0], list(df.columns))\n",
        "  team_name = get_team_name(team)\n",
        "  df.insert(0, \"Team\", [team_name]*len(df))\n",
        "  # df = df.reset_index(drop=True).rename_axis(None, axis=1)\n",
        "  return df[['Team', 'Active Players', 'Age', 'Pos.', 'Status',\n",
        "      'Base Salary', 'Payroll %', 'Country']]\n",
        "\n",
        "def get_concatenated_payroll_table(teams, year):\n",
        "  df = pd.DataFrame()\n",
        "  for team in tqdm(teams):\n",
        "    df = pd.concat([df, get_payroll_table(team, year)], axis=0)\n",
        "  return df"
      ]
    },
    {
      "cell_type": "code",
      "execution_count": null,
      "metadata": {
        "colab": {
          "background_save": true,
          "base_uri": "https://localhost:8080/"
        },
        "id": "cbQvKIcLl4Hu",
        "outputId": "74e92d09-1343-4782-a952-e5db9bada351"
      },
      "outputs": [
        {
          "name": "stderr",
          "output_type": "stream",
          "text": [
            "100%|██████████| 30/30 [30:45<00:00, 61.52s/it]\n"
          ]
        },
        {
          "data": {
            "text/plain": [
              "(1057, 8)"
            ]
          },
          "execution_count": null,
          "metadata": {},
          "output_type": "execute_result"
        }
      ],
      "source": [
        "df2019 = get_concatenated_payroll_table(teams, 2019)\n",
        "df2019.shape"
      ]
    },
    {
      "cell_type": "code",
      "execution_count": null,
      "metadata": {
        "colab": {
          "background_save": true
        },
        "id": "E5hFmtYDf2v6"
      },
      "outputs": [],
      "source": [
        "# for team in teams:\n",
        "#   for year in [2019, 2020, 2021, 2022]:\n",
        "#     df = get_payroll_table(team, year)\n",
        "#     df.to_csv(f'{team}-{year}.csv', index=False)"
      ]
    },
    {
      "cell_type": "code",
      "execution_count": null,
      "metadata": {
        "colab": {
          "background_save": true
        },
        "id": "JCluWJ5MhYzg"
      },
      "outputs": [],
      "source": [
        "df2019.to_csv('salary-data-2019.csv', index=False)"
      ]
    },
    {
      "cell_type": "markdown",
      "source": [
        "## Analysis"
      ],
      "metadata": {
        "id": "NGPUXvd4yA4W"
      }
    },
    {
      "cell_type": "code",
      "source": [
        "!git clone https://github.com/sejaldua/mlb-racial-bias.git"
      ],
      "metadata": {
        "colab": {
          "base_uri": "https://localhost:8080/"
        },
        "id": "BYj9joLoyB4Z",
        "outputId": "3a8aa0fa-a135-4a08-811f-3fdacfe46b85"
      },
      "execution_count": null,
      "outputs": [
        {
          "output_type": "stream",
          "name": "stdout",
          "text": [
            "Cloning into 'mlb-racial-bias'...\n",
            "remote: Enumerating objects: 24, done.\u001b[K\n",
            "remote: Counting objects: 100% (24/24), done.\u001b[K\n",
            "remote: Compressing objects: 100% (23/23), done.\u001b[K\n",
            "remote: Total 24 (delta 6), reused 0 (delta 0), pack-reused 0\u001b[K\n",
            "Unpacking objects: 100% (24/24), done.\n"
          ]
        }
      ]
    },
    {
      "cell_type": "code",
      "source": [
        "!cd /content/mlb-racial-bias && ls"
      ],
      "metadata": {
        "colab": {
          "base_uri": "https://localhost:8080/"
        },
        "id": "SlXHethCyFh6",
        "outputId": "20749b21-20b0-424a-d8ff-e8b829d33f27"
      },
      "execution_count": null,
      "outputs": [
        {
          "output_type": "stream",
          "name": "stdout",
          "text": [
            "README.md\t      salary-data-2018.csv  salary-data-2021.csv\n",
            "salary-data-2016.csv  salary-data-2019.csv  salary-data-2022.csv\n",
            "salary-data-2017.csv  salary-data-2020.csv\n"
          ]
        }
      ]
    },
    {
      "cell_type": "code",
      "source": [
        "import glob\n",
        "import pandas as pd\n",
        "# import pandasql as psql\n",
        "\n",
        "df = pd.DataFrame()\n",
        "for datafile in list(glob.glob(\"/content/mlb-racial-bias/*.csv\")):\n",
        "  temp_df = pd.read_csv(datafile)\n",
        "  temp_df.rename(columns={'Active Players': 'Player', 'Pos.': 'Position', 'Base Salary': \n",
        "                          'Salary', 'Payroll %': 'Percentage'}, inplace=True)\n",
        "  temp_df.insert(0, \"Year\", [datafile.strip('.csv')[-4:]]*len(temp_df))\n",
        "  df = pd.concat([df, temp_df])\n",
        "df.shape"
      ],
      "metadata": {
        "colab": {
          "base_uri": "https://localhost:8080/"
        },
        "id": "4oSvKaCEyH6f",
        "outputId": "258a8c80-3aa8-458a-d24d-1a1e2e33bce1"
      },
      "execution_count": null,
      "outputs": [
        {
          "output_type": "execute_result",
          "data": {
            "text/plain": [
              "(6781, 9)"
            ]
          },
          "metadata": {},
          "execution_count": 4
        }
      ]
    },
    {
      "cell_type": "code",
      "source": [
        "df['Year'] = df['Year'].astype(int)\n",
        "df = df.sort_values('Year')\n",
        "df.to_csv('./mlb-payroll-data-all-seasons.csv', index=False)\n",
        "df.head()"
      ],
      "metadata": {
        "colab": {
          "base_uri": "https://localhost:8080/",
          "height": 204
        },
        "id": "4e_4EQNUzxGc",
        "outputId": "96d3a153-8a04-444b-c3c5-da1be3c4d524"
      },
      "execution_count": null,
      "outputs": [
        {
          "output_type": "execute_result",
          "data": {
            "text/plain": [
              "     Year                Team            Player  Age Position   Status  \\\n",
              "439  2016  Los Angeles Angels     Deolis Guerra   27       RP  Pre-Arb   \n",
              "361  2016      Houston Astros     Collin McHugh   29       SP  Pre-Arb   \n",
              "360  2016      Houston Astros  Yulieski Gurriel   32       1B  Pre-Arb   \n",
              "359  2016      Houston Astros   Marwin Gonzalez   27       LF    Arb 2   \n",
              "358  2016      Houston Astros       Evan Gattis   29        C    Arb 1   \n",
              "\n",
              "         Salary  Percentage    Country  \n",
              "439    $507,500        0.21  Venezuela  \n",
              "361    $529,000        0.51        NaN  \n",
              "360  $1,500,000        1.84       Cuba  \n",
              "359  $2,000,000        1.94  Venezuela  \n",
              "358  $3,300,000        3.19        NaN  "
            ],
            "text/html": [
              "\n",
              "  <div id=\"df-86a3ec29-b854-459e-9abc-b70037551bd8\">\n",
              "    <div class=\"colab-df-container\">\n",
              "      <div>\n",
              "<style scoped>\n",
              "    .dataframe tbody tr th:only-of-type {\n",
              "        vertical-align: middle;\n",
              "    }\n",
              "\n",
              "    .dataframe tbody tr th {\n",
              "        vertical-align: top;\n",
              "    }\n",
              "\n",
              "    .dataframe thead th {\n",
              "        text-align: right;\n",
              "    }\n",
              "</style>\n",
              "<table border=\"1\" class=\"dataframe\">\n",
              "  <thead>\n",
              "    <tr style=\"text-align: right;\">\n",
              "      <th></th>\n",
              "      <th>Year</th>\n",
              "      <th>Team</th>\n",
              "      <th>Player</th>\n",
              "      <th>Age</th>\n",
              "      <th>Position</th>\n",
              "      <th>Status</th>\n",
              "      <th>Salary</th>\n",
              "      <th>Percentage</th>\n",
              "      <th>Country</th>\n",
              "    </tr>\n",
              "  </thead>\n",
              "  <tbody>\n",
              "    <tr>\n",
              "      <th>439</th>\n",
              "      <td>2016</td>\n",
              "      <td>Los Angeles Angels</td>\n",
              "      <td>Deolis Guerra</td>\n",
              "      <td>27</td>\n",
              "      <td>RP</td>\n",
              "      <td>Pre-Arb</td>\n",
              "      <td>$507,500</td>\n",
              "      <td>0.21</td>\n",
              "      <td>Venezuela</td>\n",
              "    </tr>\n",
              "    <tr>\n",
              "      <th>361</th>\n",
              "      <td>2016</td>\n",
              "      <td>Houston Astros</td>\n",
              "      <td>Collin McHugh</td>\n",
              "      <td>29</td>\n",
              "      <td>SP</td>\n",
              "      <td>Pre-Arb</td>\n",
              "      <td>$529,000</td>\n",
              "      <td>0.51</td>\n",
              "      <td>NaN</td>\n",
              "    </tr>\n",
              "    <tr>\n",
              "      <th>360</th>\n",
              "      <td>2016</td>\n",
              "      <td>Houston Astros</td>\n",
              "      <td>Yulieski Gurriel</td>\n",
              "      <td>32</td>\n",
              "      <td>1B</td>\n",
              "      <td>Pre-Arb</td>\n",
              "      <td>$1,500,000</td>\n",
              "      <td>1.84</td>\n",
              "      <td>Cuba</td>\n",
              "    </tr>\n",
              "    <tr>\n",
              "      <th>359</th>\n",
              "      <td>2016</td>\n",
              "      <td>Houston Astros</td>\n",
              "      <td>Marwin Gonzalez</td>\n",
              "      <td>27</td>\n",
              "      <td>LF</td>\n",
              "      <td>Arb 2</td>\n",
              "      <td>$2,000,000</td>\n",
              "      <td>1.94</td>\n",
              "      <td>Venezuela</td>\n",
              "    </tr>\n",
              "    <tr>\n",
              "      <th>358</th>\n",
              "      <td>2016</td>\n",
              "      <td>Houston Astros</td>\n",
              "      <td>Evan Gattis</td>\n",
              "      <td>29</td>\n",
              "      <td>C</td>\n",
              "      <td>Arb 1</td>\n",
              "      <td>$3,300,000</td>\n",
              "      <td>3.19</td>\n",
              "      <td>NaN</td>\n",
              "    </tr>\n",
              "  </tbody>\n",
              "</table>\n",
              "</div>\n",
              "      <button class=\"colab-df-convert\" onclick=\"convertToInteractive('df-86a3ec29-b854-459e-9abc-b70037551bd8')\"\n",
              "              title=\"Convert this dataframe to an interactive table.\"\n",
              "              style=\"display:none;\">\n",
              "        \n",
              "  <svg xmlns=\"http://www.w3.org/2000/svg\" height=\"24px\"viewBox=\"0 0 24 24\"\n",
              "       width=\"24px\">\n",
              "    <path d=\"M0 0h24v24H0V0z\" fill=\"none\"/>\n",
              "    <path d=\"M18.56 5.44l.94 2.06.94-2.06 2.06-.94-2.06-.94-.94-2.06-.94 2.06-2.06.94zm-11 1L8.5 8.5l.94-2.06 2.06-.94-2.06-.94L8.5 2.5l-.94 2.06-2.06.94zm10 10l.94 2.06.94-2.06 2.06-.94-2.06-.94-.94-2.06-.94 2.06-2.06.94z\"/><path d=\"M17.41 7.96l-1.37-1.37c-.4-.4-.92-.59-1.43-.59-.52 0-1.04.2-1.43.59L10.3 9.45l-7.72 7.72c-.78.78-.78 2.05 0 2.83L4 21.41c.39.39.9.59 1.41.59.51 0 1.02-.2 1.41-.59l7.78-7.78 2.81-2.81c.8-.78.8-2.07 0-2.86zM5.41 20L4 18.59l7.72-7.72 1.47 1.35L5.41 20z\"/>\n",
              "  </svg>\n",
              "      </button>\n",
              "      \n",
              "  <style>\n",
              "    .colab-df-container {\n",
              "      display:flex;\n",
              "      flex-wrap:wrap;\n",
              "      gap: 12px;\n",
              "    }\n",
              "\n",
              "    .colab-df-convert {\n",
              "      background-color: #E8F0FE;\n",
              "      border: none;\n",
              "      border-radius: 50%;\n",
              "      cursor: pointer;\n",
              "      display: none;\n",
              "      fill: #1967D2;\n",
              "      height: 32px;\n",
              "      padding: 0 0 0 0;\n",
              "      width: 32px;\n",
              "    }\n",
              "\n",
              "    .colab-df-convert:hover {\n",
              "      background-color: #E2EBFA;\n",
              "      box-shadow: 0px 1px 2px rgba(60, 64, 67, 0.3), 0px 1px 3px 1px rgba(60, 64, 67, 0.15);\n",
              "      fill: #174EA6;\n",
              "    }\n",
              "\n",
              "    [theme=dark] .colab-df-convert {\n",
              "      background-color: #3B4455;\n",
              "      fill: #D2E3FC;\n",
              "    }\n",
              "\n",
              "    [theme=dark] .colab-df-convert:hover {\n",
              "      background-color: #434B5C;\n",
              "      box-shadow: 0px 1px 3px 1px rgba(0, 0, 0, 0.15);\n",
              "      filter: drop-shadow(0px 1px 2px rgba(0, 0, 0, 0.3));\n",
              "      fill: #FFFFFF;\n",
              "    }\n",
              "  </style>\n",
              "\n",
              "      <script>\n",
              "        const buttonEl =\n",
              "          document.querySelector('#df-86a3ec29-b854-459e-9abc-b70037551bd8 button.colab-df-convert');\n",
              "        buttonEl.style.display =\n",
              "          google.colab.kernel.accessAllowed ? 'block' : 'none';\n",
              "\n",
              "        async function convertToInteractive(key) {\n",
              "          const element = document.querySelector('#df-86a3ec29-b854-459e-9abc-b70037551bd8');\n",
              "          const dataTable =\n",
              "            await google.colab.kernel.invokeFunction('convertToInteractive',\n",
              "                                                     [key], {});\n",
              "          if (!dataTable) return;\n",
              "\n",
              "          const docLinkHtml = 'Like what you see? Visit the ' +\n",
              "            '<a target=\"_blank\" href=https://colab.research.google.com/notebooks/data_table.ipynb>data table notebook</a>'\n",
              "            + ' to learn more about interactive tables.';\n",
              "          element.innerHTML = '';\n",
              "          dataTable['output_type'] = 'display_data';\n",
              "          await google.colab.output.renderOutput(dataTable, element);\n",
              "          const docLink = document.createElement('div');\n",
              "          docLink.innerHTML = docLinkHtml;\n",
              "          element.appendChild(docLink);\n",
              "        }\n",
              "      </script>\n",
              "    </div>\n",
              "  </div>\n",
              "  "
            ]
          },
          "metadata": {},
          "execution_count": 6
        }
      ]
    },
    {
      "cell_type": "code",
      "source": [],
      "metadata": {
        "id": "Nf9e3z1ozsxQ"
      },
      "execution_count": null,
      "outputs": []
    }
  ],
  "metadata": {
    "colab": {
      "collapsed_sections": [],
      "provenance": []
    },
    "kernelspec": {
      "display_name": "Python 3",
      "name": "python3"
    },
    "language_info": {
      "name": "python"
    }
  },
  "nbformat": 4,
  "nbformat_minor": 0
}
